{
 "cells": [
  {
   "cell_type": "code",
   "execution_count": 92,
   "metadata": {},
   "outputs": [],
   "source": [
    "import pandas as pd\n",
    "import numpy as np\n",
    "import os\n",
    "import matplotlib.pyplot as plt\n",
    "import seaborn as sns\n",
    "\n",
    "import nltk\n",
    "import string\n",
    "from nltk.corpus import stopwords\n"
   ]
  },
  {
   "cell_type": "code",
   "execution_count": 315,
   "metadata": {},
   "outputs": [],
   "source": [
    "\n",
    "def load_sentences(domain='pool', data_type=['train', 'test', 'valid']):\n",
    "    sents = None\n",
    "\n",
    "    for dt in ['train', 'test', 'valid']:\n",
    "        if dt not in data_type:\n",
    "            continue\n",
    "        \n",
    "        dt_sents = pd.read_csv('./data/' + domain + '/' + dt + '/sentences.txt', sep='\\n', header=None)\n",
    "        if sents is None:\n",
    "            sents = dt_sents\n",
    "        else:\n",
    "            sents = pd.concat([sents, dt_sents], axis=0)\n",
    "\n",
    "    sents.columns = ['sentence']\n",
    "    return sents\n",
    "\n",
    "\n",
    "\n",
    "def cal_top_words(words, freqs, n=100, rare=False):\n",
    "    words = np.array(words)\n",
    "    freqs = np.array(freqs)\n",
    "\n",
    "\n",
    "    if rare:\n",
    "        top_n_words = words[freqs < n]\n",
    "        top_n_freqs = freqs[freqs < n]\n",
    "    else:\n",
    "        top_n_words = words[freqs > n]\n",
    "        top_n_freqs = freqs[freqs > n]\n",
    "\n",
    "    top_word_freq = {w: top_n_freqs[i] for i,w in enumerate(top_n_freqs)}\n",
    "\n",
    "    return top_word_freq, top_n_words, top_n_freqs\n",
    "\n",
    "\n",
    "\n",
    "stop = stopwords.words('english')\n",
    "def cal_word_freq(corpus):\n",
    "    words = []\n",
    "    for sent in corpus:\n",
    "        for w in sent.split():\n",
    "#             w_l = w.lower()\n",
    "#             if w_l.strip() in stop or w_l in string.punctuation or w_l.isdigit() or w_l in ['\\'s', 'said', \"n't\", '--'] or '0' in w_l:\n",
    "#                 continue\n",
    "            words.append(w)\n",
    "\n",
    "    print('total words ', len(words))\n",
    "    \n",
    "    w_freq = nltk.FreqDist(words)\n",
    "\n",
    "    return {w: q for w, q in w_freq.items()}, np.array(list(w_freq.keys())), np.array(list(w_freq.values()))\n"
   ]
  },
  {
   "cell_type": "markdown",
   "metadata": {},
   "source": [
    "# Training data from all domains"
   ]
  },
  {
   "cell_type": "code",
   "execution_count": 316,
   "metadata": {},
   "outputs": [
    {
     "data": {
      "text/plain": [
       "(112511, 1)"
      ]
     },
     "execution_count": 316,
     "metadata": {},
     "output_type": "execute_result"
    }
   ],
   "source": [
    "sents_all_domain = load_sentences('pool', ['train', 'valid', 'test'])\n",
    "\n",
    "sents_all_domain.shape\n"
   ]
  },
  {
   "cell_type": "code",
   "execution_count": 317,
   "metadata": {},
   "outputs": [
    {
     "data": {
      "text/html": [
       "<div>\n",
       "<style scoped>\n",
       "    .dataframe tbody tr th:only-of-type {\n",
       "        vertical-align: middle;\n",
       "    }\n",
       "\n",
       "    .dataframe tbody tr th {\n",
       "        vertical-align: top;\n",
       "    }\n",
       "\n",
       "    .dataframe thead th {\n",
       "        text-align: right;\n",
       "    }\n",
       "</style>\n",
       "<table border=\"1\" class=\"dataframe\">\n",
       "  <thead>\n",
       "    <tr style=\"text-align: right;\">\n",
       "      <th></th>\n",
       "      <th>sentence</th>\n",
       "    </tr>\n",
       "  </thead>\n",
       "  <tbody>\n",
       "    <tr>\n",
       "      <th>0</th>\n",
       "      <td>This is Hardball only on msnbc .</td>\n",
       "    </tr>\n",
       "    <tr>\n",
       "      <th>1</th>\n",
       "      <td>-LSB- -RSB-</td>\n",
       "    </tr>\n",
       "    <tr>\n",
       "      <th>2</th>\n",
       "      <td>That 's all for today .</td>\n",
       "    </tr>\n",
       "    <tr>\n",
       "      <th>3</th>\n",
       "      <td>It it the end comes when the insurgency clearl...</td>\n",
       "    </tr>\n",
       "    <tr>\n",
       "      <th>4</th>\n",
       "      <td>He called him I do n't use this phrase often s...</td>\n",
       "    </tr>\n",
       "  </tbody>\n",
       "</table>\n",
       "</div>"
      ],
      "text/plain": [
       "                                            sentence\n",
       "0                   This is Hardball only on msnbc .\n",
       "1                                        -LSB- -RSB-\n",
       "2                            That 's all for today .\n",
       "3  It it the end comes when the insurgency clearl...\n",
       "4  He called him I do n't use this phrase often s..."
      ]
     },
     "execution_count": 317,
     "metadata": {},
     "output_type": "execute_result"
    }
   ],
   "source": [
    "sents_all_domain.head()\n"
   ]
  },
  {
   "cell_type": "markdown",
   "metadata": {},
   "source": [
    "# Rare Words\n",
    "\n",
    "sents with different scarcity of rare words (e.g. contains word <1% occurance freq)\n"
   ]
  },
  {
   "cell_type": "code",
   "execution_count": 348,
   "metadata": {},
   "outputs": [
    {
     "name": "stdout",
     "output_type": "stream",
     "text": [
      "total words  2376914\n"
     ]
    }
   ],
   "source": [
    "word_counts, words, freqs = cal_word_freq(sents_all_domain['sentence'].tolist())\n",
    "\n",
    "freqs_ratio = freqs / sum(freqs)\n"
   ]
  },
  {
   "cell_type": "code",
   "execution_count": 356,
   "metadata": {},
   "outputs": [],
   "source": []
  },
  {
   "cell_type": "code",
   "execution_count": 373,
   "metadata": {
    "scrolled": false
   },
   "outputs": [
    {
     "data": {
      "image/png": "[encoded data removed]",
      "text/plain": [
       "<Figure size 864x288 with 2 Axes>"
      ]
     },
     "metadata": {
      "needs_background": "light"
     },
     "output_type": "display_data"
    },
    {
     "data": {
      "text/plain": [
       "count    63837.000000\n",
       "mean        13.076194\n",
       "std         41.457864\n",
       "min          1.000000\n",
       "25%          1.000000\n",
       "50%          2.000000\n",
       "75%          6.000000\n",
       "max        499.000000\n",
       "dtype: float64"
      ]
     },
     "execution_count": 373,
     "metadata": {},
     "output_type": "execute_result"
    }
   ],
   "source": [
    "\n",
    "rare_words = freqs[ (freqs < 200) & (freqs > 50) ]\n",
    "rare_words = freqs[ (freqs < 500) ]\n",
    "\n",
    "fig, ax = plt.subplots(1, 2, figsize=(12, 4))\n",
    "ax[0].boxplot(x=rare_words)\n",
    "ax[1].hist(x=rare_words)\n",
    "plt.show()o\n",
    "\n",
    "pd.Series(rare_words).describe()\n"
   ]
  },
  {
   "cell_type": "code",
   "execution_count": 322,
   "metadata": {},
   "outputs": [
    {
     "data": {
      "text/plain": [
       "4.864775"
      ]
     },
     "execution_count": 322,
     "metadata": {},
     "output_type": "execute_result"
    }
   ],
   "source": [
    "1.945910 * 1.5 + 1.945910\n",
    "\n",
    "# 0.5, 0.75, 1.5IQR, max\n",
    "# [0， 0.693147, 1.791759, 4.4793975, 8.546558]\n"
   ]
  },
  {
   "cell_type": "code",
   "execution_count": null,
   "metadata": {},
   "outputs": [],
   "source": []
  },
  {
   "cell_type": "code",
   "execution_count": null,
   "metadata": {},
   "outputs": [],
   "source": []
  },
  {
   "cell_type": "markdown",
   "metadata": {},
   "source": [
    "# Sentence Length"
   ]
  },
  {
   "cell_type": "markdown",
   "metadata": {},
   "source": [
    "## All domains"
   ]
  },
  {
   "cell_type": "code",
   "execution_count": 231,
   "metadata": {},
   "outputs": [
    {
     "data": {
      "text/plain": [
       "(112511,)"
      ]
     },
     "execution_count": 231,
     "metadata": {},
     "output_type": "execute_result"
    }
   ],
   "source": [
    "sents_all_domain = load_sentences('pool', ['train', 'valid', 'test'])\n",
    "\n",
    "sent_len_all_domain = pd.Series([ len( sent.split() ) for sent in sents_all_domain['sentence'] ])\n",
    "\n",
    "sent_len_all_domain.shape\n"
   ]
  },
  {
   "cell_type": "code",
   "execution_count": 232,
   "metadata": {},
   "outputs": [
    {
     "data": {
      "image/png": "[encoded data removed]",
      "text/plain": [
       "<Figure size 864x288 with 2 Axes>"
      ]
     },
     "metadata": {
      "needs_background": "light"
     },
     "output_type": "display_data"
    },
    {
     "data": {
      "text/plain": [
       "count    112511.000000\n",
       "mean         21.126059\n",
       "std          14.928275\n",
       "min           2.000000\n",
       "25%          10.000000\n",
       "50%          18.000000\n",
       "75%          29.000000\n",
       "max         298.000000\n",
       "dtype: float64"
      ]
     },
     "execution_count": 232,
     "metadata": {},
     "output_type": "execute_result"
    }
   ],
   "source": [
    "fig, ax = plt.subplots(1, 2, figsize=(12, 4))\n",
    "ax[0].boxplot(x=sent_len_all_domain)\n",
    "ax[1].hist(x=sent_len_all_domain[sent_len_all_domain<86], bins=20)\n",
    "plt.show()\n",
    "\n",
    "sent_len_all_domain.describe()\n"
   ]
  },
  {
   "cell_type": "code",
   "execution_count": 233,
   "metadata": {},
   "outputs": [
    {
     "data": {
      "text/plain": [
       "(57.5, 86)"
      ]
     },
     "execution_count": 233,
     "metadata": {},
     "output_type": "execute_result"
    }
   ],
   "source": [
    "29 + 1.5* (29 - 10), 29 + 3 * (29 - 10), \n",
    "\n",
    "# [<5, [5, 30), [30, 58), [58, 86), >86 ]\n"
   ]
  },
  {
   "cell_type": "code",
   "execution_count": null,
   "metadata": {},
   "outputs": [],
   "source": []
  },
  {
   "cell_type": "code",
   "execution_count": 234,
   "metadata": {},
   "outputs": [
    {
     "data": {
      "image/png": "[encoded data removed]",
      "text/plain": [
       "<Figure size 1440x360 with 1 Axes>"
      ]
     },
     "metadata": {
      "needs_background": "light"
     },
     "output_type": "display_data"
    }
   ],
   "source": [
    "sent_len_counts = sent_len_all_domain.value_counts()\n",
    "top_100_sent_len = sent_len_counts[:86]\n",
    "\n",
    "fig, ax = plt.subplots(figsize=(20, 5))\n",
    "sns.barplot(x=top_100_sent_len.index, y=top_100_sent_len.values, alpha=0.8)\n",
    "ax.set_title('Distribution of training sentence length from all domains')\n",
    "ax.set_ylabel('Counts', fontsize=12)\n",
    "ax.set_xlabel('Sentence Length', fontsize=12)\n",
    "plt.show()\n"
   ]
  },
  {
   "cell_type": "markdown",
   "metadata": {},
   "source": [
    "## Domain-Specific"
   ]
  },
  {
   "cell_type": "code",
   "execution_count": 272,
   "metadata": {},
   "outputs": [
    {
     "data": {
      "text/plain": [
       "(16162,)"
      ]
     },
     "execution_count": 272,
     "metadata": {},
     "output_type": "execute_result"
    }
   ],
   "source": [
    "sents_bc = load_sentences('bc', ['train', 'valid', 'test'])\n",
    "sents_bn = load_sentences('bn', ['train', 'valid', 'test'])\n",
    "sents_mz = load_sentences('mz', ['train', 'valid', 'test'])\n",
    "sents_nw = load_sentences('nw', ['train', 'valid', 'test'])\n",
    "sents_tc = load_sentences('tc', ['train', 'valid', 'test'])\n",
    "sents_wb = load_sentences('wb', ['train', 'valid', 'test'])\n",
    "\n",
    "sent_len_sents_bc = pd.Series([ len( sent.split() ) for sent in sents_bc['sentence'] ])\n",
    "sent_len_sents_bn = pd.Series([ len( sent.split() ) for sent in sents_bn['sentence'] ])\n",
    "sent_len_sents_mz = pd.Series([ len( sent.split() ) for sent in sents_mz['sentence'] ])\n",
    "sent_len_sents_nw = pd.Series([ len( sent.split() ) for sent in sents_nw['sentence'] ])\n",
    "sent_len_sents_tc = pd.Series([ len( sent.split() ) for sent in sents_tc['sentence'] ])\n",
    "sent_len_sents_wb = pd.Series([ len( sent.split() ) for sent in sents_wb['sentence'] ])\n",
    "\n",
    "sent_len_sents_bc.shape\n"
   ]
  },
  {
   "cell_type": "code",
   "execution_count": 297,
   "metadata": {},
   "outputs": [
    {
     "data": {
      "text/plain": [
       "[15.208699418388813,\n",
       " 19.461144578313252,\n",
       " 24.750636780438104,\n",
       " 26.690857000498255,\n",
       " 8.57938838358519,\n",
       " 23.0728426636355]"
      ]
     },
     "execution_count": 297,
     "metadata": {},
     "output_type": "execute_result"
    },
    {
     "data": {
      "image/png": "[encoded data removed]",
      "text/plain": [
       "<Figure size 432x288 with 1 Axes>"
      ]
     },
     "metadata": {
      "needs_background": "light"
     },
     "output_type": "display_data"
    }
   ],
   "source": [
    "domains = ['bc', 'bn', 'mz', 'nw', 'tc', 'wb']\n",
    "\n",
    "fig, ax = plt.subplots(figsize=(6, 4))\n",
    "avg_words_per_domain = [ \n",
    "    np.mean(sent_len_sents_bc), np.mean(sent_len_sents_bn), \n",
    "    np.mean(sent_len_sents_mz), np.mean(sent_len_sents_nw),\n",
    "    np.mean(sent_len_sents_tc), np.mean(sent_len_sents_wb)\n",
    "]\n",
    "ax.bar(x=domains, height=avg_words_per_domain)\n",
    "\n",
    "avg_words_per_domain\n"
   ]
  },
  {
   "cell_type": "code",
   "execution_count": 278,
   "metadata": {},
   "outputs": [
    {
     "data": {
      "image/png": "[encoded data removed]",
      "text/plain": [
       "<Figure size 864x432 with 6 Axes>"
      ]
     },
     "metadata": {
      "needs_background": "light"
     },
     "output_type": "display_data"
    }
   ],
   "source": [
    "fig, ax = plt.subplots(2, 3, figsize=(12, 6))\n",
    "\n",
    "ax[0,0].boxplot(x=sent_len_sents_bc)\n",
    "ax[0,0].set_title('Sentence length, bc')\n",
    "\n",
    "ax[0,1].boxplot(x=sent_len_sents_bn)\n",
    "ax[0,1].set_title('Sentence length, bn')\n",
    "\n",
    "ax[0,2].boxplot(x=sent_len_sents_mz)\n",
    "ax[0,2].set_title('Sentence length, mz')\n",
    "\n",
    "ax[1,0].boxplot(x=sent_len_sents_nw)\n",
    "ax[1,0].set_title('Sentence length, nw')\n",
    "\n",
    "ax[1,1].boxplot(x=sent_len_sents_tc)\n",
    "ax[1,1].set_title('Sentence length, tc')\n",
    "\n",
    "ax[1,2].boxplot(x=sent_len_sents_wb)\n",
    "ax[1,2].set_title('Sentence length, wb')\n",
    "\n",
    "plt.show()"
   ]
  },
  {
   "cell_type": "code",
   "execution_count": null,
   "metadata": {},
   "outputs": [],
   "source": [
    "ax[1].hist(x=sent_len_all_domain[sent_len_all_domain<86], bins=20)\n",
    "\n",
    "\n",
    "sent_len_all_domain.describe()\n"
   ]
  }
 ],
 "metadata": {
  "kernelspec": {
   "display_name": "Python 3",
   "language": "python",
   "name": "python3"
  },
  "language_info": {
   "codemirror_mode": {
    "name": "ipython",
    "version": 3
   },
   "file_extension": ".py",
   "mimetype": "text/x-python",
   "name": "python",
   "nbconvert_exporter": "python",
   "pygments_lexer": "ipython3",
   "version": "3.8.3"
  }
 },
 "nbformat": 4,
 "nbformat_minor": 4
}
